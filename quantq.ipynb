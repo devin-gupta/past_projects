{
 "cells": [
  {
   "cell_type": "markdown",
   "metadata": {},
   "source": [
    "#### Method 1: \n",
    "\n",
    "Here we tried to define a recursive rule that would calculate the expectation of rerolling and compare it to the expectation of not rerolling at every stage in the 100 stage game. I've defined the equation below. This turned out to be too computationally expensive to run in a reasonable amount of time.\n",
    "\n",
    "$$ \\phi(N,s) = \\frac{1}{s} [\\sum_{i=2}^{s} (i*N) + \\phi(N-1, s)] $$"
   ]
  },
  {
   "cell_type": "code",
   "execution_count": 1,
   "metadata": {},
   "outputs": [],
   "source": [
    "def rule(N, s):\n",
    "    print (\"reached\")\n",
    "    sum = 0\n",
    "    if N == 1:\n",
    "        print (\"reached N = 1\")\n",
    "        # x = 0\n",
    "        # for j in range (1,s):\n",
    "        #     x = x + j\n",
    "        #     print(x)\n",
    "        # average = x/s\n",
    "        # return average\n",
    "        return 2\n",
    "\n",
    "    if N > 1:\n",
    "        print(rule(N-1, s))\n",
    "        for i in range(2,3):\n",
    "            sum = sum + (i*N)\n",
    "        result = (1/s)(rule(N-1, s) + sum)\n",
    "        print (result)\n",
    "        return result\n"
   ]
  },
  {
   "cell_type": "markdown",
   "metadata": {},
   "source": [
    "#### Method 2:\n",
    "\n",
    "Next we tried simply solving the expectation of keeping versus rerolling for a single stage which avoids the complexity of whether or not we might reroll in the future past the next turn. I've listed the derived equation below. To model this, we used a random number generator to simulate the dice rolls and then calculated the expectation of keeping versus rerolling for each stage. We then listed the average of running this strategy 100 times.\n",
    "\n",
    "$$ \\frac{21}{2}(N-1) > Nx $$\n",
    "\n",
    "$$ \\frac{21}{2}(1 - \\frac{1}{100-N}) > x $$"
   ]
  },
  {
   "cell_type": "code",
   "execution_count": 2,
   "metadata": {},
   "outputs": [],
   "source": [
    "import random\n",
    "\n",
    "def rule2():\n",
    "    for N in range(0,100):\n",
    "        if N == 0: \n",
    "            x = 1\n",
    "            sum = 0\n",
    "\n",
    "        if x < (10.5*(1-(1/(100-N)))):\n",
    "            x = random.randint(1,20)\n",
    "        else:\n",
    "            sum = sum + x\n",
    "    return sum\n"
   ]
  },
  {
   "cell_type": "code",
   "execution_count": 36,
   "metadata": {},
   "outputs": [
    {
     "name": "stdout",
     "output_type": "stream",
     "text": [
      "Mark and Devin's method returns an average of 1515.472\n"
     ]
    }
   ],
   "source": [
    "larger_sum = 0\n",
    "for i in range(0,1000):\n",
    "    iteration = rule2()\n",
    "    # print(iteration)\n",
    "    larger_sum = larger_sum + iteration\n",
    "    average = larger_sum/1000\n",
    "\n",
    "print(\"Mark and Devin's method returns an average of \" + str(average))"
   ]
  },
  {
   "cell_type": "markdown",
   "metadata": {},
   "source": [
    "#### Comparing\n",
    "\n",
    "We compare this to DK's alternative strategy of rerolling from the beginning until we achieve a roll of 18 or higher, then simply sticking with that roll.\n",
    "\n",
    "$$ P(\\ge 18 | 20 \\text{ rolls}) = 1-(\\frac{17}{20})^{20} $$"
   ]
  },
  {
   "cell_type": "code",
   "execution_count": null,
   "metadata": {},
   "outputs": [],
   "source": [
    "def calculator(threshold, roll):\n",
    "    prob = 1-(((threshold-1)/20)**(roll))\n",
    "    return prob\n",
    "\n",
    "calculator(18,20)"
   ]
  },
  {
   "cell_type": "code",
   "execution_count": 37,
   "metadata": {},
   "outputs": [
    {
     "name": "stdout",
     "output_type": "stream",
     "text": [
      "DK's method returns an average of 795.7999994051581\n"
     ]
    }
   ],
   "source": [
    "total = 0\n",
    "threshold = 18\n",
    "for i in range(0, 100):\n",
    "    weight = calculator(threshold, i)*(100-i)*threshold\n",
    "    total = total + weight\n",
    "\n",
    "print(\"DK's method returns an average of \" + str(total/100))"
   ]
  }
 ],
 "metadata": {
  "kernelspec": {
   "display_name": "Python 3.11.2 64-bit",
   "language": "python",
   "name": "python3"
  },
  "language_info": {
   "codemirror_mode": {
    "name": "ipython",
    "version": 3
   },
   "file_extension": ".py",
   "mimetype": "text/x-python",
   "name": "python",
   "nbconvert_exporter": "python",
   "pygments_lexer": "ipython3",
   "version": "3.11.2"
  },
  "orig_nbformat": 4,
  "vscode": {
   "interpreter": {
    "hash": "aee8b7b246df8f9039afb4144a1f6fd8d2ca17a180786b69acc140d282b71a49"
   }
  }
 },
 "nbformat": 4,
 "nbformat_minor": 2
}
