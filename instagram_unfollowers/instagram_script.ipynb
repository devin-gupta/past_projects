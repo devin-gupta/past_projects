{
 "cells": [
  {
   "cell_type": "markdown",
   "metadata": {},
   "source": [
    "# Finding your instagram unfollowers: \n",
    "\n",
    "Hi! I'm devin. i hate people who unfollow their friends on instagram to make their profile seem \"cooler\". so i've built a quick script that helps you identify who these people are so that you can call them out, and/or unfollow them back!\n",
    "\n",
    "#### Step 1: Requesting Instagram Data\n",
    "\n",
    "Instagram makes it relatively easy to download your data. Please follow the following steps to download your data. \n",
    "1. Go to your instagram accounts center: <a href=\"https://accountscenter.instagram.com/?entry_point=app_settings\">https://accountscenter.instagram.com/?entry_point=app_settings</a>. (instagram.com -> settings -> accounts center)\n",
    "2. Next go to \"Your information and permissions\" --> \"Download your information\" --> \"Download or transfer information\". \n",
    "3. Select your account (instagram), then select \"Some of your information\". Scroll down and select \"Followers and following\" from \"Connections\". Then hit next and \"Download to device\".\n",
    "4. Make sure it downloads Date range: \"All time\", and format: \"HTML\". Any media quality should be fine, given we're not downloading any media. \n",
    "\n",
    "#### Step 2: Downloading Instagram Data\n",
    "1. Once you've recieved an email saying, download your data, download your data via Instagram's instructions. Open the zip and make sure you can find the instagram data folder. \n",
    "2. Next, we're going to setup your python environment. Do the following: \n",
    "- Use VScode or your favorite IDE to make a folder. In the folder, copy this notebook, and two files from your instagram data: \"followers_1.html\" and \"following.html\", located inside the connections parent folder. \n",
    "3. Now you're ready! \n",
    "\n",
    "Run the notebook and try to make sure everything works! If you have any problems or challenges, feel free to reach out to me! \n",
    "\n"
   ]
  },
  {
   "cell_type": "code",
   "execution_count": 34,
   "metadata": {},
   "outputs": [],
   "source": [
    "from bs4 import BeautifulSoup\n",
    "import pandas as pd"
   ]
  },
  {
   "cell_type": "markdown",
   "metadata": {},
   "source": [
    "### Download Data\n",
    "Here we download the data to be stored in simple python variables. It is stored as a html object."
   ]
  },
  {
   "cell_type": "code",
   "execution_count": 12,
   "metadata": {},
   "outputs": [],
   "source": [
    "# download data from html file into python objects\n",
    "with open('followers_1.html', 'r', encoding='utf-8') as file:\n",
    "    followers = file.read()\n",
    "\n",
    "with open('following.html', 'r', encoding='utf-8') as file:\n",
    "    following = file.read()"
   ]
  },
  {
   "cell_type": "markdown",
   "metadata": {},
   "source": [
    "### Extract Insta Usernames\n",
    "In this script, we define and apply a function to our two follower and following html objects, that uses beautiful soup to parse the div structure of the html objects. Then we save this data to a pandas dataframe. "
   ]
  },
  {
   "cell_type": "code",
   "execution_count": 13,
   "metadata": {},
   "outputs": [
    {
     "name": "stdout",
     "output_type": "stream",
     "text": [
      "Following DataFrame:\n",
      "        Following\n",
      "0    sarahbaldeon\n",
      "1        jeffhou_\n",
      "2      shaedolann\n",
      "3  connertakehana\n",
      "4      chloeakiko\n",
      "\n",
      "Followers DataFrame:\n",
      "        Followers\n",
      "0       kaelynhui\n",
      "1    sarahbaldeon\n",
      "2        jeffhou_\n",
      "3      shaedolann\n",
      "4  connertakehana\n"
     ]
    }
   ],
   "source": [
    "# def function to extract profile names\n",
    "def extract_profile_names_from_html(html_content):\n",
    "    soup = BeautifulSoup(html_content, 'html.parser')\n",
    "    profile_names = []\n",
    "    for a_tag in soup.find_all('a'):\n",
    "        href = a_tag.get('href', '')\n",
    "        if 'instagram.com' in href:\n",
    "            profile_name = a_tag.text.strip()\n",
    "            profile_names.append(profile_name)\n",
    "    return profile_names\n",
    "\n",
    "# Extract profile names from HTML content\n",
    "following_profile_names = extract_profile_names_from_html(following)\n",
    "followers_profile_names = extract_profile_names_from_html(followers)\n",
    "\n",
    "# Create pandas DataFrames\n",
    "following_df = pd.DataFrame(following_profile_names, columns=['Following'])\n",
    "followers_df = pd.DataFrame(followers_profile_names, columns=['Followers'])\n",
    "\n",
    "# print data examples\n",
    "print(\"Following DataFrame:\")\n",
    "print(following_df.head())\n",
    "print(\"\\nFollowers DataFrame:\")\n",
    "print(followers_df.head())"
   ]
  },
  {
   "cell_type": "markdown",
   "metadata": {},
   "source": [
    "### Print number of Followers and Following\n",
    "Here we can see how many followers, following and our net difference are."
   ]
  },
  {
   "cell_type": "code",
   "execution_count": 16,
   "metadata": {},
   "outputs": [
    {
     "name": "stdout",
     "output_type": "stream",
     "text": [
      "Number of people in your following list: 1986\n",
      "Number of people in your follower list: 1958\n",
      "Number of evil Unfollowers: 28\n"
     ]
    }
   ],
   "source": [
    "# Print the number of people in your following and follower lists\n",
    "print(\"Number of people in your following list:\", len(following_df))\n",
    "print(\"Number of people in your follower list:\", len(followers_df))\n",
    "print(\"Difference between followers and following:\", len(following_df) - len(followers_df))"
   ]
  },
  {
   "cell_type": "markdown",
   "metadata": {},
   "source": [
    "### Names of Unfollowers (evil folks)\n",
    "This script compares those who are in the following list but aren't in the followers list, hence everyone who unfollowed us after we followed them. You're welcome to scroll through these names or use:\n",
    "<br> <br>\n",
    "display(unfollowed_profiles[start num:stop num])\n"
   ]
  },
  {
   "cell_type": "code",
   "execution_count": 33,
   "metadata": {},
   "outputs": [
    {
     "name": "stdout",
     "output_type": "stream",
     "text": [
      "Unfollowed Profiles:\n"
     ]
    },
    {
     "data": {
      "text/html": [
       "<div>\n",
       "<style scoped>\n",
       "    .dataframe tbody tr th:only-of-type {\n",
       "        vertical-align: middle;\n",
       "    }\n",
       "\n",
       "    .dataframe tbody tr th {\n",
       "        vertical-align: top;\n",
       "    }\n",
       "\n",
       "    .dataframe thead th {\n",
       "        text-align: right;\n",
       "    }\n",
       "</style>\n",
       "<table border=\"1\" class=\"dataframe\">\n",
       "  <thead>\n",
       "    <tr style=\"text-align: right;\">\n",
       "      <th></th>\n",
       "      <th>Following</th>\n",
       "    </tr>\n",
       "  </thead>\n",
       "  <tbody>\n",
       "    <tr>\n",
       "      <th>298</th>\n",
       "      <td>sixofpages</td>\n",
       "    </tr>\n",
       "    <tr>\n",
       "      <th>299</th>\n",
       "      <td>rachelowensss</td>\n",
       "    </tr>\n",
       "    <tr>\n",
       "      <th>300</th>\n",
       "      <td>vicky._.yy</td>\n",
       "    </tr>\n",
       "    <tr>\n",
       "      <th>302</th>\n",
       "      <td>sgcxliv</td>\n",
       "    </tr>\n",
       "    <tr>\n",
       "      <th>308</th>\n",
       "      <td>gin.lle</td>\n",
       "    </tr>\n",
       "    <tr>\n",
       "      <th>...</th>\n",
       "      <td>...</td>\n",
       "    </tr>\n",
       "    <tr>\n",
       "      <th>1843</th>\n",
       "      <td>abduld0s</td>\n",
       "    </tr>\n",
       "    <tr>\n",
       "      <th>1857</th>\n",
       "      <td>abby_shelchuk</td>\n",
       "    </tr>\n",
       "    <tr>\n",
       "      <th>1858</th>\n",
       "      <td>connerliu7749</td>\n",
       "    </tr>\n",
       "    <tr>\n",
       "      <th>1910</th>\n",
       "      <td>remy.haghighi</td>\n",
       "    </tr>\n",
       "    <tr>\n",
       "      <th>1943</th>\n",
       "      <td>elbbeele</td>\n",
       "    </tr>\n",
       "  </tbody>\n",
       "</table>\n",
       "<p>110 rows × 1 columns</p>\n",
       "</div>"
      ],
      "text/plain": [
       "          Following\n",
       "298      sixofpages\n",
       "299   rachelowensss\n",
       "300      vicky._.yy\n",
       "302         sgcxliv\n",
       "308         gin.lle\n",
       "...             ...\n",
       "1843       abduld0s\n",
       "1857  abby_shelchuk\n",
       "1858  connerliu7749\n",
       "1910  remy.haghighi\n",
       "1943       elbbeele\n",
       "\n",
       "[110 rows x 1 columns]"
      ]
     },
     "metadata": {},
     "output_type": "display_data"
    }
   ],
   "source": [
    "# Find names in following but not in followers\n",
    "unfollowed_profiles = following_df[~following_df['Following'].isin(followers_df['Followers'])]\n",
    "\n",
    "# Display the unfollowed profiles\n",
    "print(\"Unfollowed Profiles:\")\n",
    "display(unfollowed_profiles)"
   ]
  }
 ],
 "metadata": {
  "kernelspec": {
   "display_name": "base",
   "language": "python",
   "name": "python3"
  },
  "language_info": {
   "codemirror_mode": {
    "name": "ipython",
    "version": 3
   },
   "file_extension": ".py",
   "mimetype": "text/x-python",
   "name": "python",
   "nbconvert_exporter": "python",
   "pygments_lexer": "ipython3",
   "version": "3.11.4"
  }
 },
 "nbformat": 4,
 "nbformat_minor": 2
}
