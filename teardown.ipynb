{
 "cells": [
  {
   "cell_type": "code",
   "execution_count": 1,
   "metadata": {},
   "outputs": [
    {
     "name": "stdout",
     "output_type": "stream",
    }
   ],
   "source": [
    "!pip install brainflow"
   ]
  },
  {
   "cell_type": "code",
   "execution_count": 3,
   "metadata": {},
   "outputs": [],
   "source": [
    "import argparse\n",
    "import time\n",
    "\n",
    "from brainflow.board_shim import BoardShim, BrainFlowInputParams, BoardIds, BrainFlowPresets\n"
   ]
  },
  {
   "cell_type": "code",
   "execution_count": 8,
   "metadata": {},
   "outputs": [
    {
     "name": "stdout",
     "output_type": "stream",
     "text": [
      "This is: 38\n"
     ]
    },
    {
     "name": "stderr",
     "output_type": "stream",
     "text": []
    },
    {
     "ename": "SystemExit",
     "evalue": "2",
     "output_type": "error",
     "traceback": []
    },
    {
     "name": "stderr",
     "output_type": "stream",
     "text": []
    }
   ],
   "source": [
    "def main():\n",
    "    BoardShim.enable_dev_board_logger()\n",
    "    print(\"This is:\", int(BoardIds.MUSE_2_BOARD))\n",
    "\n",
    "    parser = argparse.ArgumentParser()\n",
    "    # use docs to check which parameters are required for specific board, e.g. for Cyton - set serial port\n",
    "    parser.add_argument('--timeout', type=int, help='timeout for device discovery or connection', required=False,\n",
    "                        default=0)\n",
    "    parser.add_argument('--ip-port', type=int, help='ip port', required=False, default=0)\n",
    "    parser.add_argument('--ip-protocol', type=int, help='ip protocol, check IpProtocolType enum', required=False,\n",
    "                        default=0)\n",
    "    parser.add_argument('--ip-address', type=str, help='ip address', required=False, default='')\n",
    "    parser.add_argument('--serial-port', type=str, help='serial port', required=False, default='')\n",
    "    parser.add_argument('--mac-address', type=str, help='mac address', required=False, default='') #f8:4d:89:73:67:cc\n",
    "    parser.add_argument('--other-info', type=str, help='other info', required=False, default='')\n",
    "    parser.add_argument('--serial-number', type=str, help='serial number', required=False, default='') #4108-A8L3-DD75\n",
    "    parser.add_argument('--board-id', type=int, help='board id, check docs to get a list of supported boards',\n",
    "                        required=False, default=BoardIds.MUSE_2_BOARD)\n",
    "    parser.add_argument('--file', type=str, help='file', required=False, default='')\n",
    "    parser.add_argument('--master-board', type=int, help='master board id for streaming and playback boards',\n",
    "                        required=False, default=BoardIds.NO_BOARD)\n",
    "    args = parser.parse_args()\n",
    "\n",
    "    params = BrainFlowInputParams()\n",
    "    params.ip_port = args.ip_port\n",
    "    params.serial_port = args.serial_port\n",
    "    params.mac_address = args.mac_address\n",
    "    params.other_info = args.other_info\n",
    "    params.serial_number = args.serial_number\n",
    "    params.ip_address = args.ip_address\n",
    "    params.ip_protocol = args.ip_protocol\n",
    "    params.timeout = args.timeout\n",
    "    params.file = args.file\n",
    "    params.master_board = args.master_board\n",
    "\n",
    "    board = BoardShim(args.board_id, params)\n",
    "    board.prepare_session()\n",
    "    board.start_stream ()\n",
    "    time.sleep(10)\n",
    "    data = board.get_current_board_data (256) # get latest 256 packages or less, doesnt remove them from internal buffer\n",
    "    data = board.get_board_data()  # get all data and remove it from internal buffer\n",
    "    board.stop_stream()\n",
    "    board.release_session()\n",
    "\n",
    "    print(\"data\")\n",
    "\n",
    "\n",
    "if __name__ == \"__main__\":\n",
    "    main()\n"
   ]
  },
  {
   "cell_type": "code",
   "execution_count": 12,
   "metadata": {},
   "outputs": []
    },
    {
     "ename": "BrainFlowError",
     "evalue": "INVALID_ARGUMENTS_ERROR:13 unable to determine number of elements in file",
     "output_type": "error",
     "traceback": []
    }
   ],
   "source": [
    "import matplotlib as plt\n",
    "import pandas\n",
    "from brainflow import DataFilter\n",
    "\n",
    "restored_data = DataFilter.read_file('test.csv')\n",
    "# restored_df = pd.DataFrame(np.transpose(restored_data))\n",
    "# print('Data From the File')\n",
    "# print(restored_df.head(10))"
   ]
  },
  {
   "cell_type": "code",
   "execution_count": null,
   "metadata": {},
   "outputs": [
    {
     "ename": "SystemExit",
     "evalue": "2",
     "output_type": "error",
     "traceback": []
    }
   ],
   "source": [
    "%tb"
   ]
  }
 ],
 "metadata": {
  "kernelspec": {
   "display_name": "Python 3.9.12 ('base')",
   "language": "python",
   "name": "python3"
  },
  "language_info": {
   "codemirror_mode": {
    "name": "ipython",
    "version": 3
   },
   "file_extension": ".py",
   "mimetype": "text/x-python",
   "name": "python",
   "nbconvert_exporter": "python",
   "pygments_lexer": "ipython3",
   "version": "3.9.12"
  },
  "orig_nbformat": 4,
  "vscode": {
   "interpreter": {
    "hash": "bc3b98b26a8ff630ddbd867c0b87250da3c64fccd3c684a2b0191a21928cf765"
   }
  }
 },
 "nbformat": 4,
 "nbformat_minor": 2
}
