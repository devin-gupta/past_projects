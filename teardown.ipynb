{
 "cells": [
  {
   "cell_type": "code",
   "execution_count": 1,
   "metadata": {},
   "outputs": [
    {
     "name": "stdout",
     "output_type": "stream",
     "text": [
      "Requirement already satisfied: brainflow in /Users/devg/miniconda3/lib/python3.9/site-packages (5.6.0)\n",
      "Requirement already satisfied: nptyping==1.4.4 in /Users/devg/miniconda3/lib/python3.9/site-packages (from brainflow) (1.4.4)\n",
      "Requirement already satisfied: numpy in /Users/devg/miniconda3/lib/python3.9/site-packages (from brainflow) (1.23.2)\n",
      "Requirement already satisfied: typish>=1.7.0 in /Users/devg/miniconda3/lib/python3.9/site-packages (from nptyping==1.4.4->brainflow) (1.9.3)\n"
     ]
    }
   ],
   "source": [
    "!pip install brainflow"
   ]
  },
  {
   "cell_type": "code",
   "execution_count": 3,
   "metadata": {},
   "outputs": [],
   "source": [
    "import argparse\n",
    "import time\n",
    "\n",
    "from brainflow.board_shim import BoardShim, BrainFlowInputParams, BoardIds, BrainFlowPresets\n"
   ]
  },
  {
   "cell_type": "code",
   "execution_count": 8,
   "metadata": {},
   "outputs": [
    {
     "name": "stdout",
     "output_type": "stream",
     "text": [
      "This is: 38\n"
     ]
    },
    {
     "name": "stderr",
     "output_type": "stream",
     "text": [
      "usage: ipykernel_launcher.py [-h] [--timeout TIMEOUT] [--ip-port IP_PORT]\n",
      "                             [--ip-protocol IP_PROTOCOL]\n",
      "                             [--ip-address IP_ADDRESS]\n",
      "                             [--serial-port SERIAL_PORT]\n",
      "                             [--mac-address MAC_ADDRESS]\n",
      "                             [--other-info OTHER_INFO]\n",
      "                             [--serial-number SERIAL_NUMBER]\n",
      "                             [--board-id BOARD_ID] [--file FILE]\n",
      "                             [--master-board MASTER_BOARD]\n",
      "ipykernel_launcher.py: error: unrecognized arguments: -f /Users/devg/Library/Jupyter/runtime/kernel-d8bfd271-d114-4ed4-9925-d7e7f48f4fea.json\n"
     ]
    },
    {
     "ename": "SystemExit",
     "evalue": "2",
     "output_type": "error",
     "traceback": [
      "An exception has occurred, use %tb to see the full traceback.\n",
      "\u001b[0;31mSystemExit\u001b[0m\u001b[0;31m:\u001b[0m 2\n"
     ]
    },
    {
     "name": "stderr",
     "output_type": "stream",
     "text": [
      "/Users/devg/miniconda3/lib/python3.9/site-packages/IPython/core/interactiveshell.py:3450: UserWarning: To exit: use 'exit', 'quit', or Ctrl-D.\n",
      "  warn(\"To exit: use 'exit', 'quit', or Ctrl-D.\", stacklevel=1)\n"
     ]
    }
   ],
   "source": [
    "def main():\n",
    "    BoardShim.enable_dev_board_logger()\n",
    "    print(\"This is:\", int(BoardIds.MUSE_2_BOARD))\n",
    "\n",
    "    parser = argparse.ArgumentParser()\n",
    "    # use docs to check which parameters are required for specific board, e.g. for Cyton - set serial port\n",
    "    parser.add_argument('--timeout', type=int, help='timeout for device discovery or connection', required=False,\n",
    "                        default=0)\n",
    "    parser.add_argument('--ip-port', type=int, help='ip port', required=False, default=0)\n",
    "    parser.add_argument('--ip-protocol', type=int, help='ip protocol, check IpProtocolType enum', required=False,\n",
    "                        default=0)\n",
    "    parser.add_argument('--ip-address', type=str, help='ip address', required=False, default='')\n",
    "    parser.add_argument('--serial-port', type=str, help='serial port', required=False, default='')\n",
    "    parser.add_argument('--mac-address', type=str, help='mac address', required=False, default='') #f8:4d:89:73:67:cc\n",
    "    parser.add_argument('--other-info', type=str, help='other info', required=False, default='')\n",
    "    parser.add_argument('--serial-number', type=str, help='serial number', required=False, default='') #4108-A8L3-DD75\n",
    "    parser.add_argument('--board-id', type=int, help='board id, check docs to get a list of supported boards',\n",
    "                        required=False, default=BoardIds.MUSE_2_BOARD)\n",
    "    parser.add_argument('--file', type=str, help='file', required=False, default='')\n",
    "    parser.add_argument('--master-board', type=int, help='master board id for streaming and playback boards',\n",
    "                        required=False, default=BoardIds.NO_BOARD)\n",
    "    args = parser.parse_args()\n",
    "\n",
    "    params = BrainFlowInputParams()\n",
    "    params.ip_port = args.ip_port\n",
    "    params.serial_port = args.serial_port\n",
    "    params.mac_address = args.mac_address\n",
    "    params.other_info = args.other_info\n",
    "    params.serial_number = args.serial_number\n",
    "    params.ip_address = args.ip_address\n",
    "    params.ip_protocol = args.ip_protocol\n",
    "    params.timeout = args.timeout\n",
    "    params.file = args.file\n",
    "    params.master_board = args.master_board\n",
    "\n",
    "    board = BoardShim(args.board_id, params)\n",
    "    board.prepare_session()\n",
    "    board.start_stream ()\n",
    "    time.sleep(10)\n",
    "    data = board.get_current_board_data (256) # get latest 256 packages or less, doesnt remove them from internal buffer\n",
    "    data = board.get_board_data()  # get all data and remove it from internal buffer\n",
    "    board.stop_stream()\n",
    "    board.release_session()\n",
    "\n",
    "    print(\"data\")\n",
    "\n",
    "\n",
    "if __name__ == \"__main__\":\n",
    "    main()\n"
   ]
  },
  {
   "cell_type": "code",
   "execution_count": 12,
   "metadata": {},
   "outputs": [
    {
     "name": "stderr",
     "output_type": "stream",
     "text": [
      "[2023-02-05 14:32:35.904] [data_logger] [error] Couldn't read file test.csv\n"
     ]
    },
    {
     "ename": "BrainFlowError",
     "evalue": "INVALID_ARGUMENTS_ERROR:13 unable to determine number of elements in file",
     "output_type": "error",
     "traceback": [
      "\u001b[0;31m---------------------------------------------------------------------------\u001b[0m",
      "\u001b[0;31mBrainFlowError\u001b[0m                            Traceback (most recent call last)",
      "Cell \u001b[0;32mIn[12], line 5\u001b[0m\n\u001b[1;32m      2\u001b[0m \u001b[38;5;28;01mimport\u001b[39;00m \u001b[38;5;21;01mpandas\u001b[39;00m\n\u001b[1;32m      3\u001b[0m \u001b[38;5;28;01mfrom\u001b[39;00m \u001b[38;5;21;01mbrainflow\u001b[39;00m \u001b[38;5;28;01mimport\u001b[39;00m DataFilter\n\u001b[0;32m----> 5\u001b[0m restored_data \u001b[38;5;241m=\u001b[39m \u001b[43mDataFilter\u001b[49m\u001b[38;5;241;43m.\u001b[39;49m\u001b[43mread_file\u001b[49m\u001b[43m(\u001b[49m\u001b[38;5;124;43m'\u001b[39;49m\u001b[38;5;124;43mtest.csv\u001b[39;49m\u001b[38;5;124;43m'\u001b[39;49m\u001b[43m)\u001b[49m\n",
      "File \u001b[0;32m~/miniconda3/lib/python3.9/site-packages/brainflow/data_filter.py:1285\u001b[0m, in \u001b[0;36mDataFilter.read_file\u001b[0;34m(cls, file_name)\u001b[0m\n\u001b[1;32m   1283\u001b[0m res \u001b[39m=\u001b[39m DataHandlerDLL\u001b[39m.\u001b[39mget_instance()\u001b[39m.\u001b[39mget_num_elements_in_file(file, num_elements)\n\u001b[1;32m   1284\u001b[0m \u001b[39mif\u001b[39;00m res \u001b[39m!=\u001b[39m BrainFlowExitCodes\u001b[39m.\u001b[39mSTATUS_OK\u001b[39m.\u001b[39mvalue:\n\u001b[0;32m-> 1285\u001b[0m     \u001b[39mraise\u001b[39;00m BrainFlowError(\u001b[39m'\u001b[39m\u001b[39munable to determine number of elements in file\u001b[39m\u001b[39m'\u001b[39m, res)\n\u001b[1;32m   1287\u001b[0m data_arr \u001b[39m=\u001b[39m numpy\u001b[39m.\u001b[39mzeros(num_elements[\u001b[39m0\u001b[39m])\u001b[39m.\u001b[39mastype(numpy\u001b[39m.\u001b[39mfloat64)\n\u001b[1;32m   1288\u001b[0m num_rows \u001b[39m=\u001b[39m numpy\u001b[39m.\u001b[39mzeros(\u001b[39m1\u001b[39m)\u001b[39m.\u001b[39mastype(numpy\u001b[39m.\u001b[39mint32)\n",
      "\u001b[0;31mBrainFlowError\u001b[0m: INVALID_ARGUMENTS_ERROR:13 unable to determine number of elements in file"
     ]
    }
   ],
   "source": [
    "import matplotlib as plt\n",
    "import pandas\n",
    "from brainflow import DataFilter\n",
    "\n",
    "restored_data = DataFilter.read_file('test.csv')\n",
    "# restored_df = pd.DataFrame(np.transpose(restored_data))\n",
    "# print('Data From the File')\n",
    "# print(restored_df.head(10))"
   ]
  },
  {
   "cell_type": "code",
   "execution_count": null,
   "metadata": {},
   "outputs": [
    {
     "ename": "SystemExit",
     "evalue": "2",
     "output_type": "error",
     "traceback": [
      "\u001b[0;31m---------------------------------------------------------------------------\u001b[0m",
      "\u001b[0;31mSystemExit\u001b[0m                                Traceback (most recent call last)",
      "Cell \u001b[0;32mIn[8], line 49\u001b[0m\n\u001b[1;32m     45\u001b[0m     \u001b[38;5;28mprint\u001b[39m(\u001b[38;5;124m\"\u001b[39m\u001b[38;5;124mdata\u001b[39m\u001b[38;5;124m\"\u001b[39m)\n\u001b[1;32m     48\u001b[0m \u001b[38;5;28;01mif\u001b[39;00m \u001b[38;5;18m__name__\u001b[39m \u001b[38;5;241m==\u001b[39m \u001b[38;5;124m\"\u001b[39m\u001b[38;5;124m__main__\u001b[39m\u001b[38;5;124m\"\u001b[39m:\n\u001b[0;32m---> 49\u001b[0m     \u001b[43mmain\u001b[49m\u001b[43m(\u001b[49m\u001b[43m)\u001b[49m\n",
      "Cell \u001b[0;32mIn[8], line 22\u001b[0m, in \u001b[0;36mmain\u001b[0;34m()\u001b[0m\n\u001b[1;32m     19\u001b[0m parser\u001b[38;5;241m.\u001b[39madd_argument(\u001b[38;5;124m'\u001b[39m\u001b[38;5;124m--file\u001b[39m\u001b[38;5;124m'\u001b[39m, \u001b[38;5;28mtype\u001b[39m\u001b[38;5;241m=\u001b[39m\u001b[38;5;28mstr\u001b[39m, help\u001b[38;5;241m=\u001b[39m\u001b[38;5;124m'\u001b[39m\u001b[38;5;124mfile\u001b[39m\u001b[38;5;124m'\u001b[39m, required\u001b[38;5;241m=\u001b[39m\u001b[38;5;28;01mFalse\u001b[39;00m, default\u001b[38;5;241m=\u001b[39m\u001b[38;5;124m'\u001b[39m\u001b[38;5;124m'\u001b[39m)\n\u001b[1;32m     20\u001b[0m parser\u001b[38;5;241m.\u001b[39madd_argument(\u001b[38;5;124m'\u001b[39m\u001b[38;5;124m--master-board\u001b[39m\u001b[38;5;124m'\u001b[39m, \u001b[38;5;28mtype\u001b[39m\u001b[38;5;241m=\u001b[39m\u001b[38;5;28mint\u001b[39m, help\u001b[38;5;241m=\u001b[39m\u001b[38;5;124m'\u001b[39m\u001b[38;5;124mmaster board id for streaming and playback boards\u001b[39m\u001b[38;5;124m'\u001b[39m,\n\u001b[1;32m     21\u001b[0m                     required\u001b[38;5;241m=\u001b[39m\u001b[38;5;28;01mFalse\u001b[39;00m, default\u001b[38;5;241m=\u001b[39mBoardIds\u001b[38;5;241m.\u001b[39mNO_BOARD)\n\u001b[0;32m---> 22\u001b[0m args \u001b[38;5;241m=\u001b[39m \u001b[43mparser\u001b[49m\u001b[38;5;241;43m.\u001b[39;49m\u001b[43mparse_args\u001b[49m\u001b[43m(\u001b[49m\u001b[43m)\u001b[49m\n\u001b[1;32m     24\u001b[0m params \u001b[38;5;241m=\u001b[39m BrainFlowInputParams()\n\u001b[1;32m     25\u001b[0m params\u001b[38;5;241m.\u001b[39mip_port \u001b[38;5;241m=\u001b[39m args\u001b[38;5;241m.\u001b[39mip_port\n",
      "File \u001b[0;32m~/miniconda3/lib/python3.9/argparse.py:1828\u001b[0m, in \u001b[0;36mArgumentParser.parse_args\u001b[0;34m(self, args, namespace)\u001b[0m\n\u001b[1;32m   1826\u001b[0m \u001b[39mif\u001b[39;00m argv:\n\u001b[1;32m   1827\u001b[0m     msg \u001b[39m=\u001b[39m _(\u001b[39m'\u001b[39m\u001b[39munrecognized arguments: \u001b[39m\u001b[39m%s\u001b[39;00m\u001b[39m'\u001b[39m)\n\u001b[0;32m-> 1828\u001b[0m     \u001b[39mself\u001b[39;49m\u001b[39m.\u001b[39;49merror(msg \u001b[39m%\u001b[39;49m \u001b[39m'\u001b[39;49m\u001b[39m \u001b[39;49m\u001b[39m'\u001b[39;49m\u001b[39m.\u001b[39;49mjoin(argv))\n\u001b[1;32m   1829\u001b[0m \u001b[39mreturn\u001b[39;00m args\n",
      "File \u001b[0;32m~/miniconda3/lib/python3.9/argparse.py:2582\u001b[0m, in \u001b[0;36mArgumentParser.error\u001b[0;34m(self, message)\u001b[0m\n\u001b[1;32m   2580\u001b[0m \u001b[39mself\u001b[39m\u001b[39m.\u001b[39mprint_usage(_sys\u001b[39m.\u001b[39mstderr)\n\u001b[1;32m   2581\u001b[0m args \u001b[39m=\u001b[39m {\u001b[39m'\u001b[39m\u001b[39mprog\u001b[39m\u001b[39m'\u001b[39m: \u001b[39mself\u001b[39m\u001b[39m.\u001b[39mprog, \u001b[39m'\u001b[39m\u001b[39mmessage\u001b[39m\u001b[39m'\u001b[39m: message}\n\u001b[0;32m-> 2582\u001b[0m \u001b[39mself\u001b[39;49m\u001b[39m.\u001b[39;49mexit(\u001b[39m2\u001b[39;49m, _(\u001b[39m'\u001b[39;49m\u001b[39m%(prog)s\u001b[39;49;00m\u001b[39m: error: \u001b[39;49m\u001b[39m%(message)s\u001b[39;49;00m\u001b[39m\\n\u001b[39;49;00m\u001b[39m'\u001b[39;49m) \u001b[39m%\u001b[39;49m args)\n",
      "File \u001b[0;32m~/miniconda3/lib/python3.9/argparse.py:2569\u001b[0m, in \u001b[0;36mArgumentParser.exit\u001b[0;34m(self, status, message)\u001b[0m\n\u001b[1;32m   2567\u001b[0m \u001b[39mif\u001b[39;00m message:\n\u001b[1;32m   2568\u001b[0m     \u001b[39mself\u001b[39m\u001b[39m.\u001b[39m_print_message(message, _sys\u001b[39m.\u001b[39mstderr)\n\u001b[0;32m-> 2569\u001b[0m _sys\u001b[39m.\u001b[39;49mexit(status)\n",
      "\u001b[0;31mSystemExit\u001b[0m: 2"
     ]
    }
   ],
   "source": [
    "%tb"
   ]
  }
 ],
 "metadata": {
  "kernelspec": {
   "display_name": "Python 3.9.12 ('base')",
   "language": "python",
   "name": "python3"
  },
  "language_info": {
   "codemirror_mode": {
    "name": "ipython",
    "version": 3
   },
   "file_extension": ".py",
   "mimetype": "text/x-python",
   "name": "python",
   "nbconvert_exporter": "python",
   "pygments_lexer": "ipython3",
   "version": "3.9.12"
  },
  "orig_nbformat": 4,
  "vscode": {
   "interpreter": {
    "hash": "bc3b98b26a8ff630ddbd867c0b87250da3c64fccd3c684a2b0191a21928cf765"
   }
  }
 },
 "nbformat": 4,
 "nbformat_minor": 2
}
